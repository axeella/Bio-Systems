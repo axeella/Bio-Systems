{
 "cells": [
  {
   "cell_type": "markdown",
   "id": "4a226d13",
   "metadata": {},
   "source": [
    "### 4. a) Carry out an FBA optimization of biomass and report the maximal biomass production rate in the presence of the implemented constraints."
   ]
  },
  {
   "cell_type": "code",
   "execution_count": 1,
   "id": "880b865e",
   "metadata": {},
   "outputs": [
    {
     "name": "stdout",
     "output_type": "stream",
     "text": [
      "0.48470309797054567\n"
     ]
    }
   ],
   "source": [
    "from cobra import Model, Reaction, Metabolite\n",
    "from cobra.io import load_json_model\n",
    "\n",
    "model = load_json_model(\"e_coli_core_constrained.json\")\n",
    "solution = model.optimize()\n",
    "print(solution.objective_value)"
   ]
  },
  {
   "cell_type": "markdown",
   "id": "d576cd74",
   "metadata": {},
   "source": [
    "### b) Determine the “bottleneck(s)” – i. e. those reaction(s) whose flux reaches its maximum. "
   ]
  },
  {
   "cell_type": "code",
   "execution_count": 2,
   "id": "b2888b6c",
   "metadata": {},
   "outputs": [
    {
     "name": "stdout",
     "output_type": "stream",
     "text": [
      "PFL 1.0 0.0 1.0\n",
      "ACALD -1.16 -1.16 1.16\n",
      "ACKr -1.19 -1.19 1.19\n",
      "ATPM 8.39 8.39 1000.0\n",
      "PPCK 0.0 0.0 25.23\n",
      "PPS 0.0 0.0 2.5\n",
      "PYRt2 -1.26 -1.26 1.26\n",
      "SUCCt2_2 0.0 0.0 2.36\n",
      "SUCCt3 0.0 0.0 6.67\n",
      "THD2 4.5 0.0 4.5\n",
      "EX_acald_e 0.0 0.0 1000.0\n",
      "EX_akg_e 0.0 0.0 1000.0\n",
      "EX_fru_e 0.0 0.0 1000.0\n",
      "EX_fum_e 0.0 0.0 1000.0\n",
      "EX_gln__L_e 0.0 0.0 1000.0\n",
      "EX_glu__L_e 0.0 0.0 1000.0\n",
      "EX_mal__L_e 0.0 0.0 1000.0\n",
      "EX_succ_e 0.0 0.0 1000.0\n",
      "FBP 0.0 0.0 2.35\n",
      "FORt2 0.0 0.0 1.28\n",
      "FRD7 0.0 0.0 20.07\n",
      "FRUpts2 0.0 0.0 10.08\n",
      "FUMt2_2 0.0 0.0 2.45\n",
      "GLNabc 0.0 0.0 0.25\n",
      "GLUN 0.0 0.0 6.25\n",
      "GLUSy 0.0 0.0 7.35\n",
      "ICL 0.0 0.0 14.07\n",
      "LDH_D -2.07 -2.07 2.07\n",
      "MALS 0.0 0.0 9.12\n",
      "MALt2_2 0.0 0.0 8.87\n",
      "ME1 0.0 0.0 3.24\n",
      "ME2 0.0 0.0 3.34\n",
      "NADH16 20.26 0.0 20.26\n",
      "NADTRHD 0.0 0.0 1.26\n"
     ]
    }
   ],
   "source": [
    "#Bottleneck: flux = bound\n",
    "\n",
    "for rxn in model.reactions:\n",
    "    if abs(solution.fluxes[rxn.id] - rxn.upper_bound) < 1e-6 or abs(solution.fluxes[rxn.id] - rxn.lower_bound) < 1e-6:\n",
    "        print(rxn.id, solution.fluxes[rxn.id], rxn.lower_bound, rxn.upper_bound)"
   ]
  },
  {
   "cell_type": "markdown",
   "id": "643c8bb5",
   "metadata": {},
   "source": [
    "### The model does not use (have non-zero flux for) all reactions in the model constrained with maximal reaction activities. Pick a reaction with maximal reaction activity constraints and zero flux in the optimal solution, and explain from the network context why it carries not carry flux. (Hint: Use the online demo again.) \n",
    "\n",
    "FORt2 has an expression-based maximal activity but in the optimal solution its flux is 0. This makes sense because FBA only activates reactions if they are needed for biomass production. From the map, FORt2 would export formate, but under aerobic glucose conditions the cell doesn’t benefit from doing that. Just like in the tutorial where some knockouts didn’t affect growth because there were alternatives, here the model ignores FORt2 even though it has capacity.\n",
    "\n",
    "\n"
   ]
  }
 ],
 "metadata": {
  "kernelspec": {
   "display_name": "base",
   "language": "python",
   "name": "python3"
  },
  "language_info": {
   "codemirror_mode": {
    "name": "ipython",
    "version": 3
   },
   "file_extension": ".py",
   "mimetype": "text/x-python",
   "name": "python",
   "nbconvert_exporter": "python",
   "pygments_lexer": "ipython3",
   "version": "3.11.3"
  }
 },
 "nbformat": 4,
 "nbformat_minor": 5
}
