{
 "cells": [
  {
   "cell_type": "markdown",
   "id": "055dc949",
   "metadata": {},
   "source": [
    "We start by loading in the model.\n"
   ]
  },
  {
   "cell_type": "code",
   "execution_count": 2,
   "id": "422bcdcf",
   "metadata": {},
   "outputs": [],
   "source": [
    "from cobra import Model, Reaction, Metabolite"
   ]
  },
  {
   "cell_type": "code",
   "execution_count": 5,
   "id": "9512bc51",
   "metadata": {},
   "outputs": [],
   "source": [
    "from cobra.io import load_json_model\n",
    "\n",
    "model = load_json_model(\"e_coli_core.json\")"
   ]
  }
 ],
 "metadata": {
  "kernelspec": {
   "display_name": "Python 3",
   "language": "python",
   "name": "python3"
  },
  "language_info": {
   "codemirror_mode": {
    "name": "ipython"
   },
   "file_extension": ".py",
   "mimetype": "text/x-python",
   "name": "python",
   "nbconvert_exporter": "python",
   "pygments_lexer": "ipython3"
  }
 },
 "nbformat": 4,
 "nbformat_minor": 5
}
