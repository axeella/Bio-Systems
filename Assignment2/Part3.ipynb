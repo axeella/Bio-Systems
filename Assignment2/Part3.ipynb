{
 "cells": [
  {
   "cell_type": "markdown",
   "metadata": {},
   "source": [
    "# Part 3 — Policy Recommendations\n",
    "\n",
    "## 3.1 Parameter impact analysis (Scenario A: β=0.3, μ=0.01, N=10000, I₀=10)\n",
    "\n",
    "From the results table:\n",
    "\n",
    "- As γ increases, R₀ = β/γ decreases (e.g., γ=0.05 → R₀=6.00; γ=0.25 → R₀=1.20).\n",
    "- Peak infections and total deaths monotonically decline with higher γ.\n",
    "  \n",
    "- γ=0.10 → peak 2657 on day 39; total deaths 834; duration ≈ 138 days.\n",
    "- γ=0.15 → peak 1318 on day 47; total deaths 474; duration ≈ 138 days.\n",
    "\n",
    "Conclusion: Increasing recovery rate substantially lowers peak health-system load and reduces fatalities. In terms of duration, if we were to use the ‘I(t) < 1’ criterion, duration is roughly constant (~138 days) for γ=0.10 vs 0.15. However, time under high burden drops meaningfully (for example, I>1000 active infections: 33 → 20 days), which is more relevant for healthcare capacity.\n",
    "\n",
    "## 3.2 Intervention analysis — +50% recovery rate\n",
    "Assuming an intervention that increases recovery from γ=0.10 to γ=0.15:\n",
    "\n",
    "- Total deaths drop from **834** to **474** → **360 fewer deaths** (≈ 43.2% reduction).\n",
    "- Peak infections fall from **2657** to **1318**, and the outbreak ends ≈ 0 days sooner.\n",
    "\n",
    "## 3.3 Real‑world application\n",
    "A plausible mechanism is early antiviral therapy that shortens time-to-recovery, thereby increasing gamma. I assume a 30–50% faster recovery as an illustrative range. Because R0 = beta / gamma, raising gamma directly reduces R0 and weakens transmission. As a concrete plug-in, using +50% gamma (0.10 → 0.15 with beta = 0.30) lowers R0 from 3.0 → 2.0, which in the simulations yields a lower epidemic peak and fewer total deaths.\n",
    "\n",
    "Real world example: \"Participants in the molnupiravir group had a faster median time from randomisation to negative PCR (8 days [95% CI 8–9]) than participants in the placebo group (11 days [10–11]; HR 1·30, 95% credible interval 0·92–1·71; log-rank p=0·074).\"\n",
    "\n",
    "Source: https://www.thelancet.com/journals/laninf/article/PIIS1473-3099%2822%2900644-2/fulltext?utm_source=chatgpt.com"
   ]
  }
 ],
 "metadata": {
  "language_info": {
   "name": "python"
  }
 },
 "nbformat": 4,
 "nbformat_minor": 2
}
